{
  "nbformat": 4,
  "nbformat_minor": 0,
  "metadata": {
    "colab": {
      "provenance": [],
      "collapsed_sections": []
    },
    "kernelspec": {
      "name": "python3",
      "display_name": "Python 3"
    },
    "language_info": {
      "name": "python"
    }
  },
  "cells": [
    {
      "cell_type": "code",
      "execution_count": 7,
      "metadata": {
        "colab": {
          "base_uri": "https://localhost:8080/"
        },
        "id": "sM4LJCY_BW2a",
        "outputId": "adb74bcd-2f13-444d-fa26-46bf34d3886d"
      },
      "outputs": [
        {
          "output_type": "stream",
          "name": "stderr",
          "text": [
            "/usr/local/lib/python3.7/dist-packages/IPython/core/interactiveshell.py:3326: DtypeWarning: Columns (1,2) have mixed types.Specify dtype option on import or set low_memory=False.\n",
            "  exec(code_obj, self.user_global_ns, self.user_ns)\n"
          ]
        }
      ],
      "source": [
        "import pandas as pd\n",
        "df= pd.read_csv('temp.csv', names=['Year', 'Avg_Temp', 'Avg_temp_uncertainty', 'Country'])"
      ]
    },
    {
      "cell_type": "code",
      "source": [
        "df= df.iloc[1:]\n",
        "df"
      ],
      "metadata": {
        "colab": {
          "base_uri": "https://localhost:8080/",
          "height": 424
        },
        "id": "55FB1gAnBixW",
        "outputId": "536f09f9-6f34-46e8-c1a8-431f7e53ceb7"
      },
      "execution_count": 8,
      "outputs": [
        {
          "output_type": "execute_result",
          "data": {
            "text/plain": [
              "              Year            Avg_Temp Avg_temp_uncertainty   Country\n",
              "1       1743-11-01  4.3839999999999995                2.294     Åland\n",
              "2       1743-12-01                 NaN                  NaN     Åland\n",
              "3       1744-01-01                 NaN                  NaN     Åland\n",
              "4       1744-02-01                 NaN                  NaN     Åland\n",
              "5       1744-03-01                 NaN                  NaN     Åland\n",
              "...            ...                 ...                  ...       ...\n",
              "577458  2013-05-01              19.059                1.022  Zimbabwe\n",
              "577459  2013-06-01              17.613                0.473  Zimbabwe\n",
              "577460  2013-07-01                17.0                0.453  Zimbabwe\n",
              "577461  2013-08-01              19.759                0.717  Zimbabwe\n",
              "577462  2013-09-01                 NaN                  NaN  Zimbabwe\n",
              "\n",
              "[577462 rows x 4 columns]"
            ],
            "text/html": [
              "\n",
              "  <div id=\"df-444f3c69-88dd-4f36-b20e-0e68afd6aaa9\">\n",
              "    <div class=\"colab-df-container\">\n",
              "      <div>\n",
              "<style scoped>\n",
              "    .dataframe tbody tr th:only-of-type {\n",
              "        vertical-align: middle;\n",
              "    }\n",
              "\n",
              "    .dataframe tbody tr th {\n",
              "        vertical-align: top;\n",
              "    }\n",
              "\n",
              "    .dataframe thead th {\n",
              "        text-align: right;\n",
              "    }\n",
              "</style>\n",
              "<table border=\"1\" class=\"dataframe\">\n",
              "  <thead>\n",
              "    <tr style=\"text-align: right;\">\n",
              "      <th></th>\n",
              "      <th>Year</th>\n",
              "      <th>Avg_Temp</th>\n",
              "      <th>Avg_temp_uncertainty</th>\n",
              "      <th>Country</th>\n",
              "    </tr>\n",
              "  </thead>\n",
              "  <tbody>\n",
              "    <tr>\n",
              "      <th>1</th>\n",
              "      <td>1743-11-01</td>\n",
              "      <td>4.3839999999999995</td>\n",
              "      <td>2.294</td>\n",
              "      <td>Åland</td>\n",
              "    </tr>\n",
              "    <tr>\n",
              "      <th>2</th>\n",
              "      <td>1743-12-01</td>\n",
              "      <td>NaN</td>\n",
              "      <td>NaN</td>\n",
              "      <td>Åland</td>\n",
              "    </tr>\n",
              "    <tr>\n",
              "      <th>3</th>\n",
              "      <td>1744-01-01</td>\n",
              "      <td>NaN</td>\n",
              "      <td>NaN</td>\n",
              "      <td>Åland</td>\n",
              "    </tr>\n",
              "    <tr>\n",
              "      <th>4</th>\n",
              "      <td>1744-02-01</td>\n",
              "      <td>NaN</td>\n",
              "      <td>NaN</td>\n",
              "      <td>Åland</td>\n",
              "    </tr>\n",
              "    <tr>\n",
              "      <th>5</th>\n",
              "      <td>1744-03-01</td>\n",
              "      <td>NaN</td>\n",
              "      <td>NaN</td>\n",
              "      <td>Åland</td>\n",
              "    </tr>\n",
              "    <tr>\n",
              "      <th>...</th>\n",
              "      <td>...</td>\n",
              "      <td>...</td>\n",
              "      <td>...</td>\n",
              "      <td>...</td>\n",
              "    </tr>\n",
              "    <tr>\n",
              "      <th>577458</th>\n",
              "      <td>2013-05-01</td>\n",
              "      <td>19.059</td>\n",
              "      <td>1.022</td>\n",
              "      <td>Zimbabwe</td>\n",
              "    </tr>\n",
              "    <tr>\n",
              "      <th>577459</th>\n",
              "      <td>2013-06-01</td>\n",
              "      <td>17.613</td>\n",
              "      <td>0.473</td>\n",
              "      <td>Zimbabwe</td>\n",
              "    </tr>\n",
              "    <tr>\n",
              "      <th>577460</th>\n",
              "      <td>2013-07-01</td>\n",
              "      <td>17.0</td>\n",
              "      <td>0.453</td>\n",
              "      <td>Zimbabwe</td>\n",
              "    </tr>\n",
              "    <tr>\n",
              "      <th>577461</th>\n",
              "      <td>2013-08-01</td>\n",
              "      <td>19.759</td>\n",
              "      <td>0.717</td>\n",
              "      <td>Zimbabwe</td>\n",
              "    </tr>\n",
              "    <tr>\n",
              "      <th>577462</th>\n",
              "      <td>2013-09-01</td>\n",
              "      <td>NaN</td>\n",
              "      <td>NaN</td>\n",
              "      <td>Zimbabwe</td>\n",
              "    </tr>\n",
              "  </tbody>\n",
              "</table>\n",
              "<p>577462 rows × 4 columns</p>\n",
              "</div>\n",
              "      <button class=\"colab-df-convert\" onclick=\"convertToInteractive('df-444f3c69-88dd-4f36-b20e-0e68afd6aaa9')\"\n",
              "              title=\"Convert this dataframe to an interactive table.\"\n",
              "              style=\"display:none;\">\n",
              "        \n",
              "  <svg xmlns=\"http://www.w3.org/2000/svg\" height=\"24px\"viewBox=\"0 0 24 24\"\n",
              "       width=\"24px\">\n",
              "    <path d=\"M0 0h24v24H0V0z\" fill=\"none\"/>\n",
              "    <path d=\"M18.56 5.44l.94 2.06.94-2.06 2.06-.94-2.06-.94-.94-2.06-.94 2.06-2.06.94zm-11 1L8.5 8.5l.94-2.06 2.06-.94-2.06-.94L8.5 2.5l-.94 2.06-2.06.94zm10 10l.94 2.06.94-2.06 2.06-.94-2.06-.94-.94-2.06-.94 2.06-2.06.94z\"/><path d=\"M17.41 7.96l-1.37-1.37c-.4-.4-.92-.59-1.43-.59-.52 0-1.04.2-1.43.59L10.3 9.45l-7.72 7.72c-.78.78-.78 2.05 0 2.83L4 21.41c.39.39.9.59 1.41.59.51 0 1.02-.2 1.41-.59l7.78-7.78 2.81-2.81c.8-.78.8-2.07 0-2.86zM5.41 20L4 18.59l7.72-7.72 1.47 1.35L5.41 20z\"/>\n",
              "  </svg>\n",
              "      </button>\n",
              "      \n",
              "  <style>\n",
              "    .colab-df-container {\n",
              "      display:flex;\n",
              "      flex-wrap:wrap;\n",
              "      gap: 12px;\n",
              "    }\n",
              "\n",
              "    .colab-df-convert {\n",
              "      background-color: #E8F0FE;\n",
              "      border: none;\n",
              "      border-radius: 50%;\n",
              "      cursor: pointer;\n",
              "      display: none;\n",
              "      fill: #1967D2;\n",
              "      height: 32px;\n",
              "      padding: 0 0 0 0;\n",
              "      width: 32px;\n",
              "    }\n",
              "\n",
              "    .colab-df-convert:hover {\n",
              "      background-color: #E2EBFA;\n",
              "      box-shadow: 0px 1px 2px rgba(60, 64, 67, 0.3), 0px 1px 3px 1px rgba(60, 64, 67, 0.15);\n",
              "      fill: #174EA6;\n",
              "    }\n",
              "\n",
              "    [theme=dark] .colab-df-convert {\n",
              "      background-color: #3B4455;\n",
              "      fill: #D2E3FC;\n",
              "    }\n",
              "\n",
              "    [theme=dark] .colab-df-convert:hover {\n",
              "      background-color: #434B5C;\n",
              "      box-shadow: 0px 1px 3px 1px rgba(0, 0, 0, 0.15);\n",
              "      filter: drop-shadow(0px 1px 2px rgba(0, 0, 0, 0.3));\n",
              "      fill: #FFFFFF;\n",
              "    }\n",
              "  </style>\n",
              "\n",
              "      <script>\n",
              "        const buttonEl =\n",
              "          document.querySelector('#df-444f3c69-88dd-4f36-b20e-0e68afd6aaa9 button.colab-df-convert');\n",
              "        buttonEl.style.display =\n",
              "          google.colab.kernel.accessAllowed ? 'block' : 'none';\n",
              "\n",
              "        async function convertToInteractive(key) {\n",
              "          const element = document.querySelector('#df-444f3c69-88dd-4f36-b20e-0e68afd6aaa9');\n",
              "          const dataTable =\n",
              "            await google.colab.kernel.invokeFunction('convertToInteractive',\n",
              "                                                     [key], {});\n",
              "          if (!dataTable) return;\n",
              "\n",
              "          const docLinkHtml = 'Like what you see? Visit the ' +\n",
              "            '<a target=\"_blank\" href=https://colab.research.google.com/notebooks/data_table.ipynb>data table notebook</a>'\n",
              "            + ' to learn more about interactive tables.';\n",
              "          element.innerHTML = '';\n",
              "          dataTable['output_type'] = 'display_data';\n",
              "          await google.colab.output.renderOutput(dataTable, element);\n",
              "          const docLink = document.createElement('div');\n",
              "          docLink.innerHTML = docLinkHtml;\n",
              "          element.appendChild(docLink);\n",
              "        }\n",
              "      </script>\n",
              "    </div>\n",
              "  </div>\n",
              "  "
            ]
          },
          "metadata": {},
          "execution_count": 8
        }
      ]
    },
    {
      "cell_type": "code",
      "source": [
        "df['Date']= pd.to_datetime(df.Year)\n",
        "df['Year']= pd.to_datetime(df.Year)"
      ],
      "metadata": {
        "id": "Ah8dnO-rBsnO"
      },
      "execution_count": 5,
      "outputs": []
    },
    {
      "cell_type": "code",
      "source": [
        "df= df[df['Year'].dt.year >=2003]\n",
        "df['Year']= df.Date.dt.year\n",
        "df['Month']= df.Date.dt.month\n",
        "df['Day']= df.Date.dt.day\n",
        "df.head()"
      ],
      "metadata": {
        "colab": {
          "base_uri": "https://localhost:8080/",
          "height": 528
        },
        "id": "yitFDFRJChI9",
        "outputId": "0a062a85-5264-475b-df16-c5f20629cddc"
      },
      "execution_count": 6,
      "outputs": [
        {
          "output_type": "stream",
          "name": "stderr",
          "text": [
            "/usr/local/lib/python3.7/dist-packages/ipykernel_launcher.py:2: SettingWithCopyWarning: \n",
            "A value is trying to be set on a copy of a slice from a DataFrame.\n",
            "Try using .loc[row_indexer,col_indexer] = value instead\n",
            "\n",
            "See the caveats in the documentation: https://pandas.pydata.org/pandas-docs/stable/user_guide/indexing.html#returning-a-view-versus-a-copy\n",
            "  \n",
            "/usr/local/lib/python3.7/dist-packages/ipykernel_launcher.py:3: SettingWithCopyWarning: \n",
            "A value is trying to be set on a copy of a slice from a DataFrame.\n",
            "Try using .loc[row_indexer,col_indexer] = value instead\n",
            "\n",
            "See the caveats in the documentation: https://pandas.pydata.org/pandas-docs/stable/user_guide/indexing.html#returning-a-view-versus-a-copy\n",
            "  This is separate from the ipykernel package so we can avoid doing imports until\n",
            "/usr/local/lib/python3.7/dist-packages/ipykernel_launcher.py:4: SettingWithCopyWarning: \n",
            "A value is trying to be set on a copy of a slice from a DataFrame.\n",
            "Try using .loc[row_indexer,col_indexer] = value instead\n",
            "\n",
            "See the caveats in the documentation: https://pandas.pydata.org/pandas-docs/stable/user_guide/indexing.html#returning-a-view-versus-a-copy\n",
            "  after removing the cwd from sys.path.\n"
          ]
        },
        {
          "output_type": "execute_result",
          "data": {
            "text/plain": [
              "      Year            Avg_Temp Avg_temp_uncertainty Country       Date  Month  \\\n",
              "3111  2003              -3.975                0.583   Åland 2003-01-01      1   \n",
              "3112  2003              -3.673  0.34700000000000003   Åland 2003-02-01      2   \n",
              "3113  2003  1.0389999999999997                 0.34   Åland 2003-03-01      3   \n",
              "3114  2003                1.99                0.338   Åland 2003-04-01      4   \n",
              "3115  2003   7.992000000000001                0.398   Åland 2003-05-01      5   \n",
              "\n",
              "      Day  \n",
              "3111    1  \n",
              "3112    1  \n",
              "3113    1  \n",
              "3114    1  \n",
              "3115    1  "
            ],
            "text/html": [
              "\n",
              "  <div id=\"df-9275c113-0065-4cc9-9e6f-605f0e69714d\">\n",
              "    <div class=\"colab-df-container\">\n",
              "      <div>\n",
              "<style scoped>\n",
              "    .dataframe tbody tr th:only-of-type {\n",
              "        vertical-align: middle;\n",
              "    }\n",
              "\n",
              "    .dataframe tbody tr th {\n",
              "        vertical-align: top;\n",
              "    }\n",
              "\n",
              "    .dataframe thead th {\n",
              "        text-align: right;\n",
              "    }\n",
              "</style>\n",
              "<table border=\"1\" class=\"dataframe\">\n",
              "  <thead>\n",
              "    <tr style=\"text-align: right;\">\n",
              "      <th></th>\n",
              "      <th>Year</th>\n",
              "      <th>Avg_Temp</th>\n",
              "      <th>Avg_temp_uncertainty</th>\n",
              "      <th>Country</th>\n",
              "      <th>Date</th>\n",
              "      <th>Month</th>\n",
              "      <th>Day</th>\n",
              "    </tr>\n",
              "  </thead>\n",
              "  <tbody>\n",
              "    <tr>\n",
              "      <th>3111</th>\n",
              "      <td>2003</td>\n",
              "      <td>-3.975</td>\n",
              "      <td>0.583</td>\n",
              "      <td>Åland</td>\n",
              "      <td>2003-01-01</td>\n",
              "      <td>1</td>\n",
              "      <td>1</td>\n",
              "    </tr>\n",
              "    <tr>\n",
              "      <th>3112</th>\n",
              "      <td>2003</td>\n",
              "      <td>-3.673</td>\n",
              "      <td>0.34700000000000003</td>\n",
              "      <td>Åland</td>\n",
              "      <td>2003-02-01</td>\n",
              "      <td>2</td>\n",
              "      <td>1</td>\n",
              "    </tr>\n",
              "    <tr>\n",
              "      <th>3113</th>\n",
              "      <td>2003</td>\n",
              "      <td>1.0389999999999997</td>\n",
              "      <td>0.34</td>\n",
              "      <td>Åland</td>\n",
              "      <td>2003-03-01</td>\n",
              "      <td>3</td>\n",
              "      <td>1</td>\n",
              "    </tr>\n",
              "    <tr>\n",
              "      <th>3114</th>\n",
              "      <td>2003</td>\n",
              "      <td>1.99</td>\n",
              "      <td>0.338</td>\n",
              "      <td>Åland</td>\n",
              "      <td>2003-04-01</td>\n",
              "      <td>4</td>\n",
              "      <td>1</td>\n",
              "    </tr>\n",
              "    <tr>\n",
              "      <th>3115</th>\n",
              "      <td>2003</td>\n",
              "      <td>7.992000000000001</td>\n",
              "      <td>0.398</td>\n",
              "      <td>Åland</td>\n",
              "      <td>2003-05-01</td>\n",
              "      <td>5</td>\n",
              "      <td>1</td>\n",
              "    </tr>\n",
              "  </tbody>\n",
              "</table>\n",
              "</div>\n",
              "      <button class=\"colab-df-convert\" onclick=\"convertToInteractive('df-9275c113-0065-4cc9-9e6f-605f0e69714d')\"\n",
              "              title=\"Convert this dataframe to an interactive table.\"\n",
              "              style=\"display:none;\">\n",
              "        \n",
              "  <svg xmlns=\"http://www.w3.org/2000/svg\" height=\"24px\"viewBox=\"0 0 24 24\"\n",
              "       width=\"24px\">\n",
              "    <path d=\"M0 0h24v24H0V0z\" fill=\"none\"/>\n",
              "    <path d=\"M18.56 5.44l.94 2.06.94-2.06 2.06-.94-2.06-.94-.94-2.06-.94 2.06-2.06.94zm-11 1L8.5 8.5l.94-2.06 2.06-.94-2.06-.94L8.5 2.5l-.94 2.06-2.06.94zm10 10l.94 2.06.94-2.06 2.06-.94-2.06-.94-.94-2.06-.94 2.06-2.06.94z\"/><path d=\"M17.41 7.96l-1.37-1.37c-.4-.4-.92-.59-1.43-.59-.52 0-1.04.2-1.43.59L10.3 9.45l-7.72 7.72c-.78.78-.78 2.05 0 2.83L4 21.41c.39.39.9.59 1.41.59.51 0 1.02-.2 1.41-.59l7.78-7.78 2.81-2.81c.8-.78.8-2.07 0-2.86zM5.41 20L4 18.59l7.72-7.72 1.47 1.35L5.41 20z\"/>\n",
              "  </svg>\n",
              "      </button>\n",
              "      \n",
              "  <style>\n",
              "    .colab-df-container {\n",
              "      display:flex;\n",
              "      flex-wrap:wrap;\n",
              "      gap: 12px;\n",
              "    }\n",
              "\n",
              "    .colab-df-convert {\n",
              "      background-color: #E8F0FE;\n",
              "      border: none;\n",
              "      border-radius: 50%;\n",
              "      cursor: pointer;\n",
              "      display: none;\n",
              "      fill: #1967D2;\n",
              "      height: 32px;\n",
              "      padding: 0 0 0 0;\n",
              "      width: 32px;\n",
              "    }\n",
              "\n",
              "    .colab-df-convert:hover {\n",
              "      background-color: #E2EBFA;\n",
              "      box-shadow: 0px 1px 2px rgba(60, 64, 67, 0.3), 0px 1px 3px 1px rgba(60, 64, 67, 0.15);\n",
              "      fill: #174EA6;\n",
              "    }\n",
              "\n",
              "    [theme=dark] .colab-df-convert {\n",
              "      background-color: #3B4455;\n",
              "      fill: #D2E3FC;\n",
              "    }\n",
              "\n",
              "    [theme=dark] .colab-df-convert:hover {\n",
              "      background-color: #434B5C;\n",
              "      box-shadow: 0px 1px 3px 1px rgba(0, 0, 0, 0.15);\n",
              "      filter: drop-shadow(0px 1px 2px rgba(0, 0, 0, 0.3));\n",
              "      fill: #FFFFFF;\n",
              "    }\n",
              "  </style>\n",
              "\n",
              "      <script>\n",
              "        const buttonEl =\n",
              "          document.querySelector('#df-9275c113-0065-4cc9-9e6f-605f0e69714d button.colab-df-convert');\n",
              "        buttonEl.style.display =\n",
              "          google.colab.kernel.accessAllowed ? 'block' : 'none';\n",
              "\n",
              "        async function convertToInteractive(key) {\n",
              "          const element = document.querySelector('#df-9275c113-0065-4cc9-9e6f-605f0e69714d');\n",
              "          const dataTable =\n",
              "            await google.colab.kernel.invokeFunction('convertToInteractive',\n",
              "                                                     [key], {});\n",
              "          if (!dataTable) return;\n",
              "\n",
              "          const docLinkHtml = 'Like what you see? Visit the ' +\n",
              "            '<a target=\"_blank\" href=https://colab.research.google.com/notebooks/data_table.ipynb>data table notebook</a>'\n",
              "            + ' to learn more about interactive tables.';\n",
              "          element.innerHTML = '';\n",
              "          dataTable['output_type'] = 'display_data';\n",
              "          await google.colab.output.renderOutput(dataTable, element);\n",
              "          const docLink = document.createElement('div');\n",
              "          docLink.innerHTML = docLinkHtml;\n",
              "          element.appendChild(docLink);\n",
              "        }\n",
              "      </script>\n",
              "    </div>\n",
              "  </div>\n",
              "  "
            ]
          },
          "metadata": {},
          "execution_count": 6
        }
      ]
    },
    {
      "cell_type": "code",
      "source": [
        "df.groupby(['Year'])['Avg_Temp'].mean().plot()"
      ],
      "metadata": {
        "colab": {
          "base_uri": "https://localhost:8080/",
          "height": 297
        },
        "id": "wkyOgGE7CloU",
        "outputId": "d97b3f6e-ea57-427f-80d1-b6ef60cf6a06"
      },
      "execution_count": 48,
      "outputs": [
        {
          "output_type": "execute_result",
          "data": {
            "text/plain": [
              "<matplotlib.axes._subplots.AxesSubplot at 0x7f5266dbd550>"
            ]
          },
          "metadata": {},
          "execution_count": 48
        },
        {
          "output_type": "display_data",
          "data": {
            "text/plain": [
              "<Figure size 432x288 with 1 Axes>"
            ],
            "image/png": "[encoded data removed]"
          },
          "metadata": {
            "needs_background": "light"
          }
        }
      ]
    },
    {
      "cell_type": "code",
      "source": [
        "plt.figure(figsize=(16,16))\n",
        "fig= df.groupby(['Year', 'Month'])['Avg_Temp'].mean().plot(kind='bar')"
      ],
      "metadata": {
        "colab": {
          "base_uri": "https://localhost:8080/",
          "height": 974
        },
        "id": "yRtwPW6MFHzi",
        "outputId": "ac5333d3-5058-4a89-851e-65a7b71e353c"
      },
      "execution_count": 62,
      "outputs": [
        {
          "output_type": "display_data",
          "data": {
            "text/plain": [
              "<Figure size 1152x1152 with 1 Axes>"
            ],
            "image/png": "[encoded data removed]"
          },
          "metadata": {
            "needs_background": "light"
          }
        }
      ]
    },
    {
      "cell_type": "code",
      "source": [
        "UBS= df[(df.Country == 'United States') | (df.Country=='United Kingdom') | (df.Country == 'Brazil') | (df.Country=='Poland') | (df.Country == 'China') | (df.Country=='Switzerland') | (df.Country == 'Singapore')]\n",
        "UBS.Country.value_counts()"
      ],
      "metadata": {
        "colab": {
          "base_uri": "https://localhost:8080/"
        },
        "id": "aCQnTM-7Fy4v",
        "outputId": "ce914e57-98c8-41bb-f52c-ae951ea9be7b"
      },
      "execution_count": 71,
      "outputs": [
        {
          "output_type": "execute_result",
          "data": {
            "text/plain": [
              "China             129\n",
              "Poland            129\n",
              "Singapore         129\n",
              "Switzerland       129\n",
              "United Kingdom    129\n",
              "United States     129\n",
              "Name: Country, dtype: int64"
            ]
          },
          "metadata": {},
          "execution_count": 71
        }
      ]
    },
    {
      "cell_type": "code",
      "source": [
        "import seaborn as sns\n",
        "plt.figure(figsize=(16,16))\n",
        "graph= sns.lineplot(data=UBS, x='Year', y='Avg_Temp', hue='Country', ci=None)\n",
        "graph.set_title('UBS Countries Temp Increase')\n",
        "graph.set_xlabel('Year')\n",
        "graph.set_ylabel('Temp in Celsius')"
      ],
      "metadata": {
        "colab": {
          "base_uri": "https://localhost:8080/",
          "height": 966
        },
        "id": "vAp3cJK8J1jV",
        "outputId": "041f5e59-c22d-448a-ba54-a7de4d08aae4"
      },
      "execution_count": 104,
      "outputs": [
        {
          "output_type": "execute_result",
          "data": {
            "text/plain": [
              "Text(0, 0.5, 'Temp in Celsius')"
            ]
          },
          "metadata": {},
          "execution_count": 104
        },
        {
          "output_type": "display_data",
          "data": {
            "text/plain": [
              "<Figure size 1152x1152 with 1 Axes>"
            ],
            "image/png": "[encoded data removed]"
          },
          "metadata": {
            "needs_background": "light"
          }
        }
      ]
    },
    {
      "cell_type": "code",
      "source": [
        "import matplotlib.pyplot as plt\n",
        "df1= pd.read_csv('plastic-pollution.csv')\n",
        "options= ['China', 'Poland', 'Singapore', 'Switzerland', 'United Kingdom', 'United States', 'Brazil']\n",
        "df2= df1[df1.Entity.isin(options)]\n",
        "plt.bar(df2.Entity, df2['Mismanaged plastic waste to ocean per capita (kg per year)'])\n",
        "plt.xticks(rotation=90)\n",
        "plt.xlabel('Countries')\n",
        "plt.ylabel('Mismanaged plastic waste to ocean per capita (kg per year)')\n",
        "plt.title('UBS Countries mismanged plastic waste in Ocean')"
      ],
      "metadata": {
        "colab": {
          "base_uri": "https://localhost:8080/",
          "height": 409
        },
        "id": "fwmjWUMSKUE5",
        "outputId": "6d1f6c4e-8038-4ae1-f8c6-dbda774501da"
      },
      "execution_count": 10,
      "outputs": [
        {
          "output_type": "execute_result",
          "data": {
            "text/plain": [
              "Text(0.5, 1.0, 'UBS Countries mismanged plastic waste in Ocean')"
            ]
          },
          "metadata": {},
          "execution_count": 10
        },
        {
          "output_type": "display_data",
          "data": {
            "text/plain": [
              "<Figure size 432x288 with 1 Axes>"
            ],
            "image/png": "[encoded data removed]"
          },
          "metadata": {
            "needs_background": "light"
          }
        }
      ]
    },
    {
      "cell_type": "code",
      "source": [
        "mis= pd.read_csv('mismanaged_plasticwaste.csv')\n",
        "mis_UBS= mis[mis.Country.isin(options)]\n",
        "mis_UBS.head()"
      ],
      "metadata": {
        "colab": {
          "base_uri": "https://localhost:8080/",
          "height": 305
        },
        "id": "i62KzLdcmwUq",
        "outputId": "82f41283-1752-4204-8ad2-7f6805f2fe34"
      },
      "execution_count": 25,
      "outputs": [
        {
          "output_type": "execute_result",
          "data": {
            "text/plain": [
              "            Country  Total_MismanagedPlasticWaste_2010 (millionT)  \\\n",
              "17           Brazil                                        471404   \n",
              "29            China                                       8819717   \n",
              "138          Poland                                         15703   \n",
              "157       Singapore                                          6472   \n",
              "185  United Kingdom                                         67549   \n",
              "\n",
              "     Total_MismanagedPlasticWaste_2019 (millionT)  \\\n",
              "17                                        3296700   \n",
              "29                                       12272200   \n",
              "138                                         14124   \n",
              "157                                          2468   \n",
              "185                                         29914   \n",
              "\n",
              "     Mismanaged_PlasticWaste_PerCapita_2010 (kg per year)   \\\n",
              "17                                               0.017       \n",
              "29                                               0.092       \n",
              "138                                              0.013       \n",
              "157                                              0.004       \n",
              "185                                              0.004       \n",
              "\n",
              "     Mismanaged_PlasticWaste_PerCapita_2019 (kg per year)   \n",
              "17                                           15.620469      \n",
              "29                                            8.559308      \n",
              "138                                           0.372783      \n",
              "157                                           0.425224      \n",
              "185                                           0.442973      "
            ],
            "text/html": [
              "\n",
              "  <div id=\"df-95be4743-eb9a-44cd-ab4f-59efe14f732f\">\n",
              "    <div class=\"colab-df-container\">\n",
              "      <div>\n",
              "<style scoped>\n",
              "    .dataframe tbody tr th:only-of-type {\n",
              "        vertical-align: middle;\n",
              "    }\n",
              "\n",
              "    .dataframe tbody tr th {\n",
              "        vertical-align: top;\n",
              "    }\n",
              "\n",
              "    .dataframe thead th {\n",
              "        text-align: right;\n",
              "    }\n",
              "</style>\n",
              "<table border=\"1\" class=\"dataframe\">\n",
              "  <thead>\n",
              "    <tr style=\"text-align: right;\">\n",
              "      <th></th>\n",
              "      <th>Country</th>\n",
              "      <th>Total_MismanagedPlasticWaste_2010 (millionT)</th>\n",
              "      <th>Total_MismanagedPlasticWaste_2019 (millionT)</th>\n",
              "      <th>Mismanaged_PlasticWaste_PerCapita_2010 (kg per year)</th>\n",
              "      <th>Mismanaged_PlasticWaste_PerCapita_2019 (kg per year)</th>\n",
              "    </tr>\n",
              "  </thead>\n",
              "  <tbody>\n",
              "    <tr>\n",
              "      <th>17</th>\n",
              "      <td>Brazil</td>\n",
              "      <td>471404</td>\n",
              "      <td>3296700</td>\n",
              "      <td>0.017</td>\n",
              "      <td>15.620469</td>\n",
              "    </tr>\n",
              "    <tr>\n",
              "      <th>29</th>\n",
              "      <td>China</td>\n",
              "      <td>8819717</td>\n",
              "      <td>12272200</td>\n",
              "      <td>0.092</td>\n",
              "      <td>8.559308</td>\n",
              "    </tr>\n",
              "    <tr>\n",
              "      <th>138</th>\n",
              "      <td>Poland</td>\n",
              "      <td>15703</td>\n",
              "      <td>14124</td>\n",
              "      <td>0.013</td>\n",
              "      <td>0.372783</td>\n",
              "    </tr>\n",
              "    <tr>\n",
              "      <th>157</th>\n",
              "      <td>Singapore</td>\n",
              "      <td>6472</td>\n",
              "      <td>2468</td>\n",
              "      <td>0.004</td>\n",
              "      <td>0.425224</td>\n",
              "    </tr>\n",
              "    <tr>\n",
              "      <th>185</th>\n",
              "      <td>United Kingdom</td>\n",
              "      <td>67549</td>\n",
              "      <td>29914</td>\n",
              "      <td>0.004</td>\n",
              "      <td>0.442973</td>\n",
              "    </tr>\n",
              "  </tbody>\n",
              "</table>\n",
              "</div>\n",
              "      <button class=\"colab-df-convert\" onclick=\"convertToInteractive('df-95be4743-eb9a-44cd-ab4f-59efe14f732f')\"\n",
              "              title=\"Convert this dataframe to an interactive table.\"\n",
              "              style=\"display:none;\">\n",
              "        \n",
              "  <svg xmlns=\"http://www.w3.org/2000/svg\" height=\"24px\"viewBox=\"0 0 24 24\"\n",
              "       width=\"24px\">\n",
              "    <path d=\"M0 0h24v24H0V0z\" fill=\"none\"/>\n",
              "    <path d=\"M18.56 5.44l.94 2.06.94-2.06 2.06-.94-2.06-.94-.94-2.06-.94 2.06-2.06.94zm-11 1L8.5 8.5l.94-2.06 2.06-.94-2.06-.94L8.5 2.5l-.94 2.06-2.06.94zm10 10l.94 2.06.94-2.06 2.06-.94-2.06-.94-.94-2.06-.94 2.06-2.06.94z\"/><path d=\"M17.41 7.96l-1.37-1.37c-.4-.4-.92-.59-1.43-.59-.52 0-1.04.2-1.43.59L10.3 9.45l-7.72 7.72c-.78.78-.78 2.05 0 2.83L4 21.41c.39.39.9.59 1.41.59.51 0 1.02-.2 1.41-.59l7.78-7.78 2.81-2.81c.8-.78.8-2.07 0-2.86zM5.41 20L4 18.59l7.72-7.72 1.47 1.35L5.41 20z\"/>\n",
              "  </svg>\n",
              "      </button>\n",
              "      \n",
              "  <style>\n",
              "    .colab-df-container {\n",
              "      display:flex;\n",
              "      flex-wrap:wrap;\n",
              "      gap: 12px;\n",
              "    }\n",
              "\n",
              "    .colab-df-convert {\n",
              "      background-color: #E8F0FE;\n",
              "      border: none;\n",
              "      border-radius: 50%;\n",
              "      cursor: pointer;\n",
              "      display: none;\n",
              "      fill: #1967D2;\n",
              "      height: 32px;\n",
              "      padding: 0 0 0 0;\n",
              "      width: 32px;\n",
              "    }\n",
              "\n",
              "    .colab-df-convert:hover {\n",
              "      background-color: #E2EBFA;\n",
              "      box-shadow: 0px 1px 2px rgba(60, 64, 67, 0.3), 0px 1px 3px 1px rgba(60, 64, 67, 0.15);\n",
              "      fill: #174EA6;\n",
              "    }\n",
              "\n",
              "    [theme=dark] .colab-df-convert {\n",
              "      background-color: #3B4455;\n",
              "      fill: #D2E3FC;\n",
              "    }\n",
              "\n",
              "    [theme=dark] .colab-df-convert:hover {\n",
              "      background-color: #434B5C;\n",
              "      box-shadow: 0px 1px 3px 1px rgba(0, 0, 0, 0.15);\n",
              "      filter: drop-shadow(0px 1px 2px rgba(0, 0, 0, 0.3));\n",
              "      fill: #FFFFFF;\n",
              "    }\n",
              "  </style>\n",
              "\n",
              "      <script>\n",
              "        const buttonEl =\n",
              "          document.querySelector('#df-95be4743-eb9a-44cd-ab4f-59efe14f732f button.colab-df-convert');\n",
              "        buttonEl.style.display =\n",
              "          google.colab.kernel.accessAllowed ? 'block' : 'none';\n",
              "\n",
              "        async function convertToInteractive(key) {\n",
              "          const element = document.querySelector('#df-95be4743-eb9a-44cd-ab4f-59efe14f732f');\n",
              "          const dataTable =\n",
              "            await google.colab.kernel.invokeFunction('convertToInteractive',\n",
              "                                                     [key], {});\n",
              "          if (!dataTable) return;\n",
              "\n",
              "          const docLinkHtml = 'Like what you see? Visit the ' +\n",
              "            '<a target=\"_blank\" href=https://colab.research.google.com/notebooks/data_table.ipynb>data table notebook</a>'\n",
              "            + ' to learn more about interactive tables.';\n",
              "          element.innerHTML = '';\n",
              "          dataTable['output_type'] = 'display_data';\n",
              "          await google.colab.output.renderOutput(dataTable, element);\n",
              "          const docLink = document.createElement('div');\n",
              "          docLink.innerHTML = docLinkHtml;\n",
              "          element.appendChild(docLink);\n",
              "        }\n",
              "      </script>\n",
              "    </div>\n",
              "  </div>\n",
              "  "
            ]
          },
          "metadata": {},
          "execution_count": 25
        }
      ]
    },
    {
      "cell_type": "code",
      "source": [
        "fig, axs = plt.subplots(1,2, sharey=True, figsize=(12,12))\n",
        "axs[0].bar(mis_UBS.Country, mis_UBS['Mismanaged_PlasticWaste_PerCapita_2010 (kg per year) '])\n",
        "axs[0].tick_params(labelrotation=45)\n",
        "axs[1].bar(mis_UBS.Country, mis_UBS['Mismanaged_PlasticWaste_PerCapita_2019 (kg per year) '])\n",
        "axs[1].tick_params(labelrotation=45)\n",
        "plt.tight_layout()\n",
        "# talk about increase between both year \n",
        "# talk bout average of these countires compared to the rest of the world \n",
        "# do the same for per captica"
      ],
      "metadata": {
        "colab": {
          "base_uri": "https://localhost:8080/",
          "height": 873
        },
        "id": "ZKnWx7xntm1d",
        "outputId": "428fc088-69ac-47c9-881b-466b4804dfba"
      },
      "execution_count": 24,
      "outputs": [
        {
          "output_type": "display_data",
          "data": {
            "text/plain": [
              "<Figure size 864x864 with 2 Axes>"
            ],
            "image/png": "[encoded data removed]"
          },
          "metadata": {
            "needs_background": "light"
          }
        }
      ]
    },
    {
      "cell_type": "code",
      "source": [],
      "metadata": {
        "id": "v5JwavI_uDs1"
      },
      "execution_count": null,
      "outputs": []
    },
    {
      "cell_type": "code",
      "source": [
        "fig, axs = plt.subplots(1,2, sharey=True, figsize=(12,12))\n",
        "axs[0].bar(mis_UBS.Country, mis_UBS['Total_MismanagedPlasticWaste_2010 (millionT)'])\n",
        "axs[0].tick_params(labelrotation=45)\n",
        "axs[1].bar(mis_UBS.Country, mis_UBS['Total_MismanagedPlasticWaste_2019 (millionT)'])\n",
        "axs[1].tick_params(labelrotation=45)\n",
        "plt.tight_layout()"
      ],
      "metadata": {
        "colab": {
          "base_uri": "https://localhost:8080/",
          "height": 873
        },
        "id": "Nr-ulcRV2wye",
        "outputId": "81e7348d-d71c-403e-89a9-f79efc3daef0"
      },
      "execution_count": 22,
      "outputs": [
        {
          "output_type": "display_data",
          "data": {
            "text/plain": [
              "<Figure size 864x864 with 2 Axes>"
            ],
            "image/png": "[encoded data removed]"
          },
          "metadata": {
            "needs_background": "light"
          }
        }
      ]
    },
    {
      "cell_type": "code",
      "source": [
        "mis_UBS['Mismanaged_PlasticWaset2010-2019']= mis_UBS['Mismanaged_PlasticWaste_PerCapita_2019 (kg per year) ']- mis_UBS['Mismanaged_PlasticWaste_PerCapita_2010 (kg per year) ']\n",
        "mis_UBS['Total_mis']= mis_UBS['Total_MismanagedPlasticWaste_2019 (millionT)']- mis_UBS['Total_MismanagedPlasticWaste_2010 (millionT)']\n",
        "mis_non['Mismanaged_PlasticWaset2010-2019']= mis_non['Mismanaged_PlasticWaste_PerCapita_2019 (kg per year) ']- mis_non['Mismanaged_PlasticWaste_PerCapita_2010 (kg per year) ']\n",
        "mis_non['Total_mis']= mis_non['Total_MismanagedPlasticWaste_2019 (millionT)']- mis_non['Total_MismanagedPlasticWaste_2010 (millionT)']"
      ],
      "metadata": {
        "colab": {
          "base_uri": "https://localhost:8080/"
        },
        "id": "kZ57JOVZ2--h",
        "outputId": "f7dd07fc-d853-439c-8fff-25503b179d10"
      },
      "execution_count": 60,
      "outputs": [
        {
          "output_type": "stream",
          "name": "stderr",
          "text": [
            "/usr/local/lib/python3.7/dist-packages/ipykernel_launcher.py:1: SettingWithCopyWarning: \n",
            "A value is trying to be set on a copy of a slice from a DataFrame.\n",
            "Try using .loc[row_indexer,col_indexer] = value instead\n",
            "\n",
            "See the caveats in the documentation: https://pandas.pydata.org/pandas-docs/stable/user_guide/indexing.html#returning-a-view-versus-a-copy\n",
            "  \"\"\"Entry point for launching an IPython kernel.\n",
            "/usr/local/lib/python3.7/dist-packages/ipykernel_launcher.py:2: SettingWithCopyWarning: \n",
            "A value is trying to be set on a copy of a slice from a DataFrame.\n",
            "Try using .loc[row_indexer,col_indexer] = value instead\n",
            "\n",
            "See the caveats in the documentation: https://pandas.pydata.org/pandas-docs/stable/user_guide/indexing.html#returning-a-view-versus-a-copy\n",
            "  \n"
          ]
        }
      ]
    },
    {
      "cell_type": "code",
      "source": [
        "mis_UBS"
      ],
      "metadata": {
        "colab": {
          "base_uri": "https://localhost:8080/",
          "height": 354
        },
        "id": "V0xAzGnl3Yhm",
        "outputId": "a19b6604-0757-4288-9460-c7a5079b7282"
      },
      "execution_count": 34,
      "outputs": [
        {
          "output_type": "execute_result",
          "data": {
            "text/plain": [
              "            Country  Total_MismanagedPlasticWaste_2010 (millionT)  \\\n",
              "17           Brazil                                        471404   \n",
              "29            China                                       8819717   \n",
              "138          Poland                                         15703   \n",
              "157       Singapore                                          6472   \n",
              "185  United Kingdom                                         67549   \n",
              "186   United States                                        275424   \n",
              "\n",
              "     Total_MismanagedPlasticWaste_2019 (millionT)  \\\n",
              "17                                        3296700   \n",
              "29                                       12272200   \n",
              "138                                         14124   \n",
              "157                                          2468   \n",
              "185                                         29914   \n",
              "186                                        267469   \n",
              "\n",
              "     Mismanaged_PlasticWaste_PerCapita_2010 (kg per year)   \\\n",
              "17                                               0.017       \n",
              "29                                               0.092       \n",
              "138                                              0.013       \n",
              "157                                              0.004       \n",
              "185                                              0.004       \n",
              "186                                              0.007       \n",
              "\n",
              "     Mismanaged_PlasticWaste_PerCapita_2019 (kg per year)   \\\n",
              "17                                           15.620469       \n",
              "29                                            8.559308       \n",
              "138                                           0.372783       \n",
              "157                                           0.425224       \n",
              "185                                           0.442973       \n",
              "186                                           0.812815       \n",
              "\n",
              "     Mismanaged_PlasticWaset2010-2019  Total_mis  \n",
              "17                         -15.603469   -2825296  \n",
              "29                          -8.467308   -3452483  \n",
              "138                         -0.359783       1579  \n",
              "157                         -0.421224       4004  \n",
              "185                         -0.438973      37635  \n",
              "186                         -0.805815       7955  "
            ],
            "text/html": [
              "\n",
              "  <div id=\"df-90d69233-5629-4dfd-94f8-82d337184c05\">\n",
              "    <div class=\"colab-df-container\">\n",
              "      <div>\n",
              "<style scoped>\n",
              "    .dataframe tbody tr th:only-of-type {\n",
              "        vertical-align: middle;\n",
              "    }\n",
              "\n",
              "    .dataframe tbody tr th {\n",
              "        vertical-align: top;\n",
              "    }\n",
              "\n",
              "    .dataframe thead th {\n",
              "        text-align: right;\n",
              "    }\n",
              "</style>\n",
              "<table border=\"1\" class=\"dataframe\">\n",
              "  <thead>\n",
              "    <tr style=\"text-align: right;\">\n",
              "      <th></th>\n",
              "      <th>Country</th>\n",
              "      <th>Total_MismanagedPlasticWaste_2010 (millionT)</th>\n",
              "      <th>Total_MismanagedPlasticWaste_2019 (millionT)</th>\n",
              "      <th>Mismanaged_PlasticWaste_PerCapita_2010 (kg per year)</th>\n",
              "      <th>Mismanaged_PlasticWaste_PerCapita_2019 (kg per year)</th>\n",
              "      <th>Mismanaged_PlasticWaset2010-2019</th>\n",
              "      <th>Total_mis</th>\n",
              "    </tr>\n",
              "  </thead>\n",
              "  <tbody>\n",
              "    <tr>\n",
              "      <th>17</th>\n",
              "      <td>Brazil</td>\n",
              "      <td>471404</td>\n",
              "      <td>3296700</td>\n",
              "      <td>0.017</td>\n",
              "      <td>15.620469</td>\n",
              "      <td>-15.603469</td>\n",
              "      <td>-2825296</td>\n",
              "    </tr>\n",
              "    <tr>\n",
              "      <th>29</th>\n",
              "      <td>China</td>\n",
              "      <td>8819717</td>\n",
              "      <td>12272200</td>\n",
              "      <td>0.092</td>\n",
              "      <td>8.559308</td>\n",
              "      <td>-8.467308</td>\n",
              "      <td>-3452483</td>\n",
              "    </tr>\n",
              "    <tr>\n",
              "      <th>138</th>\n",
              "      <td>Poland</td>\n",
              "      <td>15703</td>\n",
              "      <td>14124</td>\n",
              "      <td>0.013</td>\n",
              "      <td>0.372783</td>\n",
              "      <td>-0.359783</td>\n",
              "      <td>1579</td>\n",
              "    </tr>\n",
              "    <tr>\n",
              "      <th>157</th>\n",
              "      <td>Singapore</td>\n",
              "      <td>6472</td>\n",
              "      <td>2468</td>\n",
              "      <td>0.004</td>\n",
              "      <td>0.425224</td>\n",
              "      <td>-0.421224</td>\n",
              "      <td>4004</td>\n",
              "    </tr>\n",
              "    <tr>\n",
              "      <th>185</th>\n",
              "      <td>United Kingdom</td>\n",
              "      <td>67549</td>\n",
              "      <td>29914</td>\n",
              "      <td>0.004</td>\n",
              "      <td>0.442973</td>\n",
              "      <td>-0.438973</td>\n",
              "      <td>37635</td>\n",
              "    </tr>\n",
              "    <tr>\n",
              "      <th>186</th>\n",
              "      <td>United States</td>\n",
              "      <td>275424</td>\n",
              "      <td>267469</td>\n",
              "      <td>0.007</td>\n",
              "      <td>0.812815</td>\n",
              "      <td>-0.805815</td>\n",
              "      <td>7955</td>\n",
              "    </tr>\n",
              "  </tbody>\n",
              "</table>\n",
              "</div>\n",
              "      <button class=\"colab-df-convert\" onclick=\"convertToInteractive('df-90d69233-5629-4dfd-94f8-82d337184c05')\"\n",
              "              title=\"Convert this dataframe to an interactive table.\"\n",
              "              style=\"display:none;\">\n",
              "        \n",
              "  <svg xmlns=\"http://www.w3.org/2000/svg\" height=\"24px\"viewBox=\"0 0 24 24\"\n",
              "       width=\"24px\">\n",
              "    <path d=\"M0 0h24v24H0V0z\" fill=\"none\"/>\n",
              "    <path d=\"M18.56 5.44l.94 2.06.94-2.06 2.06-.94-2.06-.94-.94-2.06-.94 2.06-2.06.94zm-11 1L8.5 8.5l.94-2.06 2.06-.94-2.06-.94L8.5 2.5l-.94 2.06-2.06.94zm10 10l.94 2.06.94-2.06 2.06-.94-2.06-.94-.94-2.06-.94 2.06-2.06.94z\"/><path d=\"M17.41 7.96l-1.37-1.37c-.4-.4-.92-.59-1.43-.59-.52 0-1.04.2-1.43.59L10.3 9.45l-7.72 7.72c-.78.78-.78 2.05 0 2.83L4 21.41c.39.39.9.59 1.41.59.51 0 1.02-.2 1.41-.59l7.78-7.78 2.81-2.81c.8-.78.8-2.07 0-2.86zM5.41 20L4 18.59l7.72-7.72 1.47 1.35L5.41 20z\"/>\n",
              "  </svg>\n",
              "      </button>\n",
              "      \n",
              "  <style>\n",
              "    .colab-df-container {\n",
              "      display:flex;\n",
              "      flex-wrap:wrap;\n",
              "      gap: 12px;\n",
              "    }\n",
              "\n",
              "    .colab-df-convert {\n",
              "      background-color: #E8F0FE;\n",
              "      border: none;\n",
              "      border-radius: 50%;\n",
              "      cursor: pointer;\n",
              "      display: none;\n",
              "      fill: #1967D2;\n",
              "      height: 32px;\n",
              "      padding: 0 0 0 0;\n",
              "      width: 32px;\n",
              "    }\n",
              "\n",
              "    .colab-df-convert:hover {\n",
              "      background-color: #E2EBFA;\n",
              "      box-shadow: 0px 1px 2px rgba(60, 64, 67, 0.3), 0px 1px 3px 1px rgba(60, 64, 67, 0.15);\n",
              "      fill: #174EA6;\n",
              "    }\n",
              "\n",
              "    [theme=dark] .colab-df-convert {\n",
              "      background-color: #3B4455;\n",
              "      fill: #D2E3FC;\n",
              "    }\n",
              "\n",
              "    [theme=dark] .colab-df-convert:hover {\n",
              "      background-color: #434B5C;\n",
              "      box-shadow: 0px 1px 3px 1px rgba(0, 0, 0, 0.15);\n",
              "      filter: drop-shadow(0px 1px 2px rgba(0, 0, 0, 0.3));\n",
              "      fill: #FFFFFF;\n",
              "    }\n",
              "  </style>\n",
              "\n",
              "      <script>\n",
              "        const buttonEl =\n",
              "          document.querySelector('#df-90d69233-5629-4dfd-94f8-82d337184c05 button.colab-df-convert');\n",
              "        buttonEl.style.display =\n",
              "          google.colab.kernel.accessAllowed ? 'block' : 'none';\n",
              "\n",
              "        async function convertToInteractive(key) {\n",
              "          const element = document.querySelector('#df-90d69233-5629-4dfd-94f8-82d337184c05');\n",
              "          const dataTable =\n",
              "            await google.colab.kernel.invokeFunction('convertToInteractive',\n",
              "                                                     [key], {});\n",
              "          if (!dataTable) return;\n",
              "\n",
              "          const docLinkHtml = 'Like what you see? Visit the ' +\n",
              "            '<a target=\"_blank\" href=https://colab.research.google.com/notebooks/data_table.ipynb>data table notebook</a>'\n",
              "            + ' to learn more about interactive tables.';\n",
              "          element.innerHTML = '';\n",
              "          dataTable['output_type'] = 'display_data';\n",
              "          await google.colab.output.renderOutput(dataTable, element);\n",
              "          const docLink = document.createElement('div');\n",
              "          docLink.innerHTML = docLinkHtml;\n",
              "          element.appendChild(docLink);\n",
              "        }\n",
              "      </script>\n",
              "    </div>\n",
              "  </div>\n",
              "  "
            ]
          },
          "metadata": {},
          "execution_count": 34
        }
      ]
    },
    {
      "cell_type": "code",
      "source": [
        "print('Average UBS Total Mismanged 2010:', mis_UBS['Total_MismanagedPlasticWaste_2010 (millionT)'].mean())\n",
        "print('Average UBS Total Mismanged 2019:', mis_UBS['Total_MismanagedPlasticWaste_2019 (millionT)'].mean())\n",
        "print('Average UBS Mismanged Plastic Waste per Capita 2010:', mis_UBS['Mismanaged_PlasticWaste_PerCapita_2010 (kg per year) '].mean())\n",
        "print('Average UBS Mismanged Plastic Waste per Capita 2019:', mis_UBS['Mismanaged_PlasticWaste_PerCapita_2019 (kg per year) '].mean())\n",
        "print('Average UBS difference in Total Mismanged:', mis_UBS['Mismanaged_PlasticWaset2010-2019'].mean())\n",
        "print('Average UBS difference in Mismanged Plastic Waste per Capita:', mis_UBS['Total_mis'].mean())"
      ],
      "metadata": {
        "colab": {
          "base_uri": "https://localhost:8080/"
        },
        "id": "3erqmy594yG2",
        "outputId": "d1c24f1a-e570-4841-f80b-8806c28fc892"
      },
      "execution_count": 62,
      "outputs": [
        {
          "output_type": "stream",
          "name": "stdout",
          "text": [
            "Average UBS Total Mismanged 2010: 1609378.1666666667\n",
            "Average UBS Total Mismanged 2019: 2647145.8333333335\n",
            "Average UBS Mismanged Plastic Waste per Capita 2010: 0.022833333333333334\n",
            "Average UBS Mismanged Plastic Waste per Capita 2019: 4.372262170666667\n",
            "Average UBS difference in Total Mismanged: 4.349428837333333\n",
            "Average UBS difference in Mismanged Plastic Waste per Capita: 1037767.6666666666\n"
          ]
        }
      ]
    },
    {
      "cell_type": "code",
      "source": [
        "import numpy as np\n",
        "mis_non=mis[~mis.Country.isin(options)]\n",
        "mis_non= mis_non.replace(0, np.NaN)"
      ],
      "metadata": {
        "id": "PGOSzHYq5TLe"
      },
      "execution_count": 42,
      "outputs": []
    },
    {
      "cell_type": "code",
      "source": [
        "print('Average non-UBS Total Mismanged 2010:', mis_non['Total_MismanagedPlasticWaste_2010 (millionT)'].mean())\n",
        "print('Average non-UBS Total Mismanged 2019:', mis_non['Total_MismanagedPlasticWaste_2019 (millionT)'].mean())\n",
        "print('Average non-UBS Mismanged Plastic Waste per Capita 2010:', mis_non['Mismanaged_PlasticWaste_PerCapita_2010 (kg per year) '].mean())\n",
        "print('Average non-UBS Mismanged Plastic Waste per Capita 2019:', mis_non['Mismanaged_PlasticWaste_PerCapita_2019 (kg per year) '].mean())\n",
        "print('Average non-UBS difference in Total Mismanged:', mis_non['Mismanaged_PlasticWaset2010-2019'].mean())\n",
        "print('Average non-UBS difference in Mismanged Plastic Waste per Capita:', mis_non['Total_mis'].mean())"
      ],
      "metadata": {
        "colab": {
          "base_uri": "https://localhost:8080/"
        },
        "id": "NK0_laZ05Tt9",
        "outputId": "633be486-885b-4eb0-8a1c-62cd23b58c80"
      },
      "execution_count": 61,
      "outputs": [
        {
          "output_type": "stream",
          "name": "stdout",
          "text": [
            "Average non-UBS Total Mismanged 2010: 123265.12222222223\n",
            "Average non-UBS Total Mismanged 2019: 292298.2484076433\n",
            "Average non-UBS Mismanged Plastic Waste per Capita 2010: 0.04597222222222221\n",
            "Average non-UBS Mismanged Plastic Waste per Capita 2019: 8.821134537045753\n",
            "Average non-UBS difference in Total Mismanged: 8.581810610410958\n",
            "Average non-UBS difference in Mismanged Plastic Waste per Capita: 153614.21476510068\n"
          ]
        }
      ]
    },
    {
      "cell_type": "code",
      "source": [
        "df1.head()\n",
        "Non_ubs= df1[~df1.Entity.isin(options)]"
      ],
      "metadata": {
        "id": "mgfkVXIo6Xo9"
      },
      "execution_count": 47,
      "outputs": []
    },
    {
      "cell_type": "code",
      "source": [
        "Non_ubs.dropna(inplace=True)\n",
        "non_ubs= Non_ubs[Non_ubs.Entity != 'World']"
      ],
      "metadata": {
        "colab": {
          "base_uri": "https://localhost:8080/"
        },
        "id": "p7YEFbKQ6e90",
        "outputId": "0436c3e2-4fb9-4228-cc54-14911e784b89"
      },
      "execution_count": 50,
      "outputs": [
        {
          "output_type": "stream",
          "name": "stderr",
          "text": [
            "/usr/local/lib/python3.7/dist-packages/pandas/util/_decorators.py:311: SettingWithCopyWarning: \n",
            "A value is trying to be set on a copy of a slice from a DataFrame\n",
            "\n",
            "See the caveats in the documentation: https://pandas.pydata.org/pandas-docs/stable/user_guide/indexing.html#returning-a-view-versus-a-copy\n",
            "  return func(*args, **kwargs)\n"
          ]
        }
      ]
    },
    {
      "cell_type": "code",
      "source": [
        "print('UBS mismanaged plastic waste:', df2['Mismanaged plastic waste to ocean per capita (kg per year)'].mean())\n",
        "print('Non-UBS mismanaged plastic waste:', non_ubs['Mismanaged plastic waste to ocean per capita (kg per year)'].mean())"
      ],
      "metadata": {
        "colab": {
          "base_uri": "https://localhost:8080/"
        },
        "id": "TVMBKjue6sNK",
        "outputId": "029bfa6f-40a0-4699-9a5d-a5d925fa76b4"
      },
      "execution_count": 59,
      "outputs": [
        {
          "output_type": "stream",
          "name": "stdout",
          "text": [
            "UBS mismanaged plastic waste: 0.0458723785\n",
            "Non-UBS mismanaged plastic waste: 0.21798477394117646\n"
          ]
        }
      ]
    },
    {
      "cell_type": "code",
      "source": [],
      "metadata": {
        "id": "_MaNSEh469I-"
      },
      "execution_count": null,
      "outputs": []
    }
  ]
}