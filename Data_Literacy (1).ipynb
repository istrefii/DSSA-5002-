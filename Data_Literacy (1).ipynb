{
  "nbformat": 4,
  "nbformat_minor": 0,
  "metadata": {
    "colab": {
      "provenance": [],
      "collapsed_sections": []
    },
    "kernelspec": {
      "name": "python3",
      "display_name": "Python 3"
    },
    "language_info": {
      "name": "python"
    }
  },
  "cells": [
    {
      "cell_type": "code",
      "source": [
        "df1.head()"
      ],
      "metadata": {
        "colab": {
          "base_uri": "https://localhost:8080/",
          "height": 206
        },
        "id": "2FMvV3y2z0Se",
        "outputId": "2e2035e0-2110-4a0a-9f54-81d6aaf1cae9"
      },
      "execution_count": 19,
      "outputs": [
        {
          "output_type": "execute_result",
          "data": {
            "text/plain": [
              "                Entity Code  Year  \\\n",
              "0               Africa  NaN  2019   \n",
              "1              Albania  ALB  2019   \n",
              "2              Algeria  DZA  2019   \n",
              "3               Angola  AGO  2019   \n",
              "4  Antigua and Barbuda  ATG  2019   \n",
              "\n",
              "   Mismanaged plastic waste to ocean per capita (kg per year)  \n",
              "0                                           0.059823           \n",
              "1                                           0.543214           \n",
              "2                                           0.134114           \n",
              "3                                           0.027023           \n",
              "4                                           0.020619           "
            ],
            "text/html": [
              "\n",
              "  <div id=\"df-c183d443-364f-44ce-8ab4-976246642a7f\">\n",
              "    <div class=\"colab-df-container\">\n",
              "      <div>\n",
              "<style scoped>\n",
              "    .dataframe tbody tr th:only-of-type {\n",
              "        vertical-align: middle;\n",
              "    }\n",
              "\n",
              "    .dataframe tbody tr th {\n",
              "        vertical-align: top;\n",
              "    }\n",
              "\n",
              "    .dataframe thead th {\n",
              "        text-align: right;\n",
              "    }\n",
              "</style>\n",
              "<table border=\"1\" class=\"dataframe\">\n",
              "  <thead>\n",
              "    <tr style=\"text-align: right;\">\n",
              "      <th></th>\n",
              "      <th>Entity</th>\n",
              "      <th>Code</th>\n",
              "      <th>Year</th>\n",
              "      <th>Mismanaged plastic waste to ocean per capita (kg per year)</th>\n",
              "    </tr>\n",
              "  </thead>\n",
              "  <tbody>\n",
              "    <tr>\n",
              "      <th>0</th>\n",
              "      <td>Africa</td>\n",
              "      <td>NaN</td>\n",
              "      <td>2019</td>\n",
              "      <td>0.059823</td>\n",
              "    </tr>\n",
              "    <tr>\n",
              "      <th>1</th>\n",
              "      <td>Albania</td>\n",
              "      <td>ALB</td>\n",
              "      <td>2019</td>\n",
              "      <td>0.543214</td>\n",
              "    </tr>\n",
              "    <tr>\n",
              "      <th>2</th>\n",
              "      <td>Algeria</td>\n",
              "      <td>DZA</td>\n",
              "      <td>2019</td>\n",
              "      <td>0.134114</td>\n",
              "    </tr>\n",
              "    <tr>\n",
              "      <th>3</th>\n",
              "      <td>Angola</td>\n",
              "      <td>AGO</td>\n",
              "      <td>2019</td>\n",
              "      <td>0.027023</td>\n",
              "    </tr>\n",
              "    <tr>\n",
              "      <th>4</th>\n",
              "      <td>Antigua and Barbuda</td>\n",
              "      <td>ATG</td>\n",
              "      <td>2019</td>\n",
              "      <td>0.020619</td>\n",
              "    </tr>\n",
              "  </tbody>\n",
              "</table>\n",
              "</div>\n",
              "      <button class=\"colab-df-convert\" onclick=\"convertToInteractive('df-c183d443-364f-44ce-8ab4-976246642a7f')\"\n",
              "              title=\"Convert this dataframe to an interactive table.\"\n",
              "              style=\"display:none;\">\n",
              "        \n",
              "  <svg xmlns=\"http://www.w3.org/2000/svg\" height=\"24px\"viewBox=\"0 0 24 24\"\n",
              "       width=\"24px\">\n",
              "    <path d=\"M0 0h24v24H0V0z\" fill=\"none\"/>\n",
              "    <path d=\"M18.56 5.44l.94 2.06.94-2.06 2.06-.94-2.06-.94-.94-2.06-.94 2.06-2.06.94zm-11 1L8.5 8.5l.94-2.06 2.06-.94-2.06-.94L8.5 2.5l-.94 2.06-2.06.94zm10 10l.94 2.06.94-2.06 2.06-.94-2.06-.94-.94-2.06-.94 2.06-2.06.94z\"/><path d=\"M17.41 7.96l-1.37-1.37c-.4-.4-.92-.59-1.43-.59-.52 0-1.04.2-1.43.59L10.3 9.45l-7.72 7.72c-.78.78-.78 2.05 0 2.83L4 21.41c.39.39.9.59 1.41.59.51 0 1.02-.2 1.41-.59l7.78-7.78 2.81-2.81c.8-.78.8-2.07 0-2.86zM5.41 20L4 18.59l7.72-7.72 1.47 1.35L5.41 20z\"/>\n",
              "  </svg>\n",
              "      </button>\n",
              "      \n",
              "  <style>\n",
              "    .colab-df-container {\n",
              "      display:flex;\n",
              "      flex-wrap:wrap;\n",
              "      gap: 12px;\n",
              "    }\n",
              "\n",
              "    .colab-df-convert {\n",
              "      background-color: #E8F0FE;\n",
              "      border: none;\n",
              "      border-radius: 50%;\n",
              "      cursor: pointer;\n",
              "      display: none;\n",
              "      fill: #1967D2;\n",
              "      height: 32px;\n",
              "      padding: 0 0 0 0;\n",
              "      width: 32px;\n",
              "    }\n",
              "\n",
              "    .colab-df-convert:hover {\n",
              "      background-color: #E2EBFA;\n",
              "      box-shadow: 0px 1px 2px rgba(60, 64, 67, 0.3), 0px 1px 3px 1px rgba(60, 64, 67, 0.15);\n",
              "      fill: #174EA6;\n",
              "    }\n",
              "\n",
              "    [theme=dark] .colab-df-convert {\n",
              "      background-color: #3B4455;\n",
              "      fill: #D2E3FC;\n",
              "    }\n",
              "\n",
              "    [theme=dark] .colab-df-convert:hover {\n",
              "      background-color: #434B5C;\n",
              "      box-shadow: 0px 1px 3px 1px rgba(0, 0, 0, 0.15);\n",
              "      filter: drop-shadow(0px 1px 2px rgba(0, 0, 0, 0.3));\n",
              "      fill: #FFFFFF;\n",
              "    }\n",
              "  </style>\n",
              "\n",
              "      <script>\n",
              "        const buttonEl =\n",
              "          document.querySelector('#df-c183d443-364f-44ce-8ab4-976246642a7f button.colab-df-convert');\n",
              "        buttonEl.style.display =\n",
              "          google.colab.kernel.accessAllowed ? 'block' : 'none';\n",
              "\n",
              "        async function convertToInteractive(key) {\n",
              "          const element = document.querySelector('#df-c183d443-364f-44ce-8ab4-976246642a7f');\n",
              "          const dataTable =\n",
              "            await google.colab.kernel.invokeFunction('convertToInteractive',\n",
              "                                                     [key], {});\n",
              "          if (!dataTable) return;\n",
              "\n",
              "          const docLinkHtml = 'Like what you see? Visit the ' +\n",
              "            '<a target=\"_blank\" href=https://colab.research.google.com/notebooks/data_table.ipynb>data table notebook</a>'\n",
              "            + ' to learn more about interactive tables.';\n",
              "          element.innerHTML = '';\n",
              "          dataTable['output_type'] = 'display_data';\n",
              "          await google.colab.output.renderOutput(dataTable, element);\n",
              "          const docLink = document.createElement('div');\n",
              "          docLink.innerHTML = docLinkHtml;\n",
              "          element.appendChild(docLink);\n",
              "        }\n",
              "      </script>\n",
              "    </div>\n",
              "  </div>\n",
              "  "
            ]
          },
          "metadata": {},
          "execution_count": 19
        }
      ]
    },
    {
      "cell_type": "code",
      "source": [
        "import matplotlib.pyplot as plt\n",
        "df1= pd.read_csv('plastic-pollution.csv')\n",
        "options= ['China', 'Poland', 'Singapore', 'Switzerland', 'United Kingdom', 'United States', 'Brazil']\n",
        "df2= df1[df1.Entity.isin(options)]\n",
        "from matplotlib.pyplot import figure\n",
        "figure(figsize=(8, 6), dpi=80)\n",
        "plt.bar(df2.Entity, df2['Mismanaged plastic waste to ocean per capita (kg per year)'])\n",
        "plt.xticks(rotation=45)\n",
        "plt.xlabel('Countries')\n",
        "plt.ylabel('Mismanaged plastic waste to ocean per capita (kg/year)')\n",
        "plt.title('UBS Countries mismanged plastic waste in Ocean')"
      ],
      "metadata": {
        "colab": {
          "base_uri": "https://localhost:8080/",
          "height": 521
        },
        "id": "fwmjWUMSKUE5",
        "outputId": "84b6a921-2723-4342-cbda-666515c06b46"
      },
      "execution_count": 98,
      "outputs": [
        {
          "output_type": "execute_result",
          "data": {
            "text/plain": [
              "Text(0.5, 1.0, 'UBS Countries mismanged plastic waste in Ocean')"
            ]
          },
          "metadata": {},
          "execution_count": 98
        },
        {
          "output_type": "display_data",
          "data": {
            "text/plain": [
              "<Figure size 640x480 with 1 Axes>"
            ],
            "image/png": "[encoded data removed]"
          },
          "metadata": {
            "needs_background": "light"
          }
        }
      ]
    },
    {
      "cell_type": "code",
      "source": [
        "df1.head()\n",
        "Non_ubs= df1[~df1.Entity.isin(options)]\n",
        "from matplotlib.pyplot import figure\n",
        "figure(figsize=(8, 6), dpi=80)\n",
        "comparing_ocean= pd.DataFrame({'Country':['UBS', 'Non-UBS'], 'Waste': [0.0458723785, 0.21336526662264152]})\n",
        "plt.bar(comparing_ocean.Country, comparing_ocean.Waste)\n",
        "plt.ylabel('Mismanaged plastic waste to ocean per capita (kg/year)')\n",
        "plt.title('UBS vs Non-UBS Countries mismanged plastic waste in Ocean')"
      ],
      "metadata": {
        "colab": {
          "base_uri": "https://localhost:8080/",
          "height": 446
        },
        "id": "I9umySyK0MVC",
        "outputId": "0ae8bdd0-de60-4b54-ed86-a1b191c8b5f7"
      },
      "execution_count": 99,
      "outputs": [
        {
          "output_type": "execute_result",
          "data": {
            "text/plain": [
              "Text(0.5, 1.0, 'UBS vs Non-UBS Countries mismanged plastic waste in Ocean')"
            ]
          },
          "metadata": {},
          "execution_count": 99
        },
        {
          "output_type": "display_data",
          "data": {
            "text/plain": [
              "<Figure size 640x480 with 1 Axes>"
            ],
            "image/png": "[encoded data removed]"
          },
          "metadata": {
            "needs_background": "light"
          }
        }
      ]
    },
    {
      "cell_type": "code",
      "source": [
        "mis_UBS= mis_UBS.drop(['Total_MismanagedPlasticWaste_2010 (millionT)', 'Total_MismanagedPlasticWaste_2019 (millionT)', 'Total_mis'], axis=1)"
      ],
      "metadata": {
        "id": "i62KzLdcmwUq"
      },
      "execution_count": 84,
      "outputs": []
    },
    {
      "cell_type": "code",
      "source": [
        "mis_UBS['Difference 2010-2019 Mismanaged_PlasticWaste_PerCapita (kg per year)']= mis_UBS['Mismanaged_PlasticWaset2010-2019']\n",
        "per= [91785.1,  9203.6, 2767.56, 10530.6, 10974.3,  11511.6]\n",
        "mis_UBS['Percentage Increase %']= per"
      ],
      "metadata": {
        "id": "BpfJqDx17lNt"
      },
      "execution_count": 88,
      "outputs": []
    },
    {
      "cell_type": "code",
      "source": [
        "mis_UBS.drop('Mismanaged_PlasticWaset2010-2019', axis=1, inplace=True)"
      ],
      "metadata": {
        "id": "MVo4mNap8uL3"
      },
      "execution_count": 90,
      "outputs": []
    },
    {
      "cell_type": "code",
      "source": [
        "mis_UBS"
      ],
      "metadata": {
        "colab": {
          "base_uri": "https://localhost:8080/",
          "height": 316
        },
        "id": "nGc2anvq84yu",
        "outputId": "f79dccad-abf2-48b6-db82-660034b7a771"
      },
      "execution_count": 91,
      "outputs": [
        {
          "output_type": "execute_result",
          "data": {
            "text/plain": [
              "            Country  Mismanaged_PlasticWaste_PerCapita_2010 (kg per year)   \\\n",
              "17           Brazil                                              0.017       \n",
              "29            China                                              0.092       \n",
              "138          Poland                                              0.013       \n",
              "157       Singapore                                              0.004       \n",
              "185  United Kingdom                                              0.004       \n",
              "186   United States                                              0.007       \n",
              "\n",
              "     Mismanaged_PlasticWaste_PerCapita_2019 (kg per year)   \\\n",
              "17                                           15.620469       \n",
              "29                                            8.559308       \n",
              "138                                           0.372783       \n",
              "157                                           0.425224       \n",
              "185                                           0.442973       \n",
              "186                                           0.812815       \n",
              "\n",
              "     Difference 2010-2019 Mismanaged_PlasticWaste_PerCapita (kg per year)  \\\n",
              "17                                           15.603469                      \n",
              "29                                            8.467308                      \n",
              "138                                           0.359783                      \n",
              "157                                           0.421224                      \n",
              "185                                           0.438973                      \n",
              "186                                           0.805815                      \n",
              "\n",
              "     Percentage Increase %  \n",
              "17                91785.10  \n",
              "29                 9203.60  \n",
              "138                2767.56  \n",
              "157               10530.60  \n",
              "185               10974.30  \n",
              "186               11511.60  "
            ],
            "text/html": [
              "\n",
              "  <div id=\"df-4053e194-f7da-4f08-808a-a295422e1237\">\n",
              "    <div class=\"colab-df-container\">\n",
              "      <div>\n",
              "<style scoped>\n",
              "    .dataframe tbody tr th:only-of-type {\n",
              "        vertical-align: middle;\n",
              "    }\n",
              "\n",
              "    .dataframe tbody tr th {\n",
              "        vertical-align: top;\n",
              "    }\n",
              "\n",
              "    .dataframe thead th {\n",
              "        text-align: right;\n",
              "    }\n",
              "</style>\n",
              "<table border=\"1\" class=\"dataframe\">\n",
              "  <thead>\n",
              "    <tr style=\"text-align: right;\">\n",
              "      <th></th>\n",
              "      <th>Country</th>\n",
              "      <th>Mismanaged_PlasticWaste_PerCapita_2010 (kg per year)</th>\n",
              "      <th>Mismanaged_PlasticWaste_PerCapita_2019 (kg per year)</th>\n",
              "      <th>Difference 2010-2019 Mismanaged_PlasticWaste_PerCapita (kg per year)</th>\n",
              "      <th>Percentage Increase %</th>\n",
              "    </tr>\n",
              "  </thead>\n",
              "  <tbody>\n",
              "    <tr>\n",
              "      <th>17</th>\n",
              "      <td>Brazil</td>\n",
              "      <td>0.017</td>\n",
              "      <td>15.620469</td>\n",
              "      <td>15.603469</td>\n",
              "      <td>91785.10</td>\n",
              "    </tr>\n",
              "    <tr>\n",
              "      <th>29</th>\n",
              "      <td>China</td>\n",
              "      <td>0.092</td>\n",
              "      <td>8.559308</td>\n",
              "      <td>8.467308</td>\n",
              "      <td>9203.60</td>\n",
              "    </tr>\n",
              "    <tr>\n",
              "      <th>138</th>\n",
              "      <td>Poland</td>\n",
              "      <td>0.013</td>\n",
              "      <td>0.372783</td>\n",
              "      <td>0.359783</td>\n",
              "      <td>2767.56</td>\n",
              "    </tr>\n",
              "    <tr>\n",
              "      <th>157</th>\n",
              "      <td>Singapore</td>\n",
              "      <td>0.004</td>\n",
              "      <td>0.425224</td>\n",
              "      <td>0.421224</td>\n",
              "      <td>10530.60</td>\n",
              "    </tr>\n",
              "    <tr>\n",
              "      <th>185</th>\n",
              "      <td>United Kingdom</td>\n",
              "      <td>0.004</td>\n",
              "      <td>0.442973</td>\n",
              "      <td>0.438973</td>\n",
              "      <td>10974.30</td>\n",
              "    </tr>\n",
              "    <tr>\n",
              "      <th>186</th>\n",
              "      <td>United States</td>\n",
              "      <td>0.007</td>\n",
              "      <td>0.812815</td>\n",
              "      <td>0.805815</td>\n",
              "      <td>11511.60</td>\n",
              "    </tr>\n",
              "  </tbody>\n",
              "</table>\n",
              "</div>\n",
              "      <button class=\"colab-df-convert\" onclick=\"convertToInteractive('df-4053e194-f7da-4f08-808a-a295422e1237')\"\n",
              "              title=\"Convert this dataframe to an interactive table.\"\n",
              "              style=\"display:none;\">\n",
              "        \n",
              "  <svg xmlns=\"http://www.w3.org/2000/svg\" height=\"24px\"viewBox=\"0 0 24 24\"\n",
              "       width=\"24px\">\n",
              "    <path d=\"M0 0h24v24H0V0z\" fill=\"none\"/>\n",
              "    <path d=\"M18.56 5.44l.94 2.06.94-2.06 2.06-.94-2.06-.94-.94-2.06-.94 2.06-2.06.94zm-11 1L8.5 8.5l.94-2.06 2.06-.94-2.06-.94L8.5 2.5l-.94 2.06-2.06.94zm10 10l.94 2.06.94-2.06 2.06-.94-2.06-.94-.94-2.06-.94 2.06-2.06.94z\"/><path d=\"M17.41 7.96l-1.37-1.37c-.4-.4-.92-.59-1.43-.59-.52 0-1.04.2-1.43.59L10.3 9.45l-7.72 7.72c-.78.78-.78 2.05 0 2.83L4 21.41c.39.39.9.59 1.41.59.51 0 1.02-.2 1.41-.59l7.78-7.78 2.81-2.81c.8-.78.8-2.07 0-2.86zM5.41 20L4 18.59l7.72-7.72 1.47 1.35L5.41 20z\"/>\n",
              "  </svg>\n",
              "      </button>\n",
              "      \n",
              "  <style>\n",
              "    .colab-df-container {\n",
              "      display:flex;\n",
              "      flex-wrap:wrap;\n",
              "      gap: 12px;\n",
              "    }\n",
              "\n",
              "    .colab-df-convert {\n",
              "      background-color: #E8F0FE;\n",
              "      border: none;\n",
              "      border-radius: 50%;\n",
              "      cursor: pointer;\n",
              "      display: none;\n",
              "      fill: #1967D2;\n",
              "      height: 32px;\n",
              "      padding: 0 0 0 0;\n",
              "      width: 32px;\n",
              "    }\n",
              "\n",
              "    .colab-df-convert:hover {\n",
              "      background-color: #E2EBFA;\n",
              "      box-shadow: 0px 1px 2px rgba(60, 64, 67, 0.3), 0px 1px 3px 1px rgba(60, 64, 67, 0.15);\n",
              "      fill: #174EA6;\n",
              "    }\n",
              "\n",
              "    [theme=dark] .colab-df-convert {\n",
              "      background-color: #3B4455;\n",
              "      fill: #D2E3FC;\n",
              "    }\n",
              "\n",
              "    [theme=dark] .colab-df-convert:hover {\n",
              "      background-color: #434B5C;\n",
              "      box-shadow: 0px 1px 3px 1px rgba(0, 0, 0, 0.15);\n",
              "      filter: drop-shadow(0px 1px 2px rgba(0, 0, 0, 0.3));\n",
              "      fill: #FFFFFF;\n",
              "    }\n",
              "  </style>\n",
              "\n",
              "      <script>\n",
              "        const buttonEl =\n",
              "          document.querySelector('#df-4053e194-f7da-4f08-808a-a295422e1237 button.colab-df-convert');\n",
              "        buttonEl.style.display =\n",
              "          google.colab.kernel.accessAllowed ? 'block' : 'none';\n",
              "\n",
              "        async function convertToInteractive(key) {\n",
              "          const element = document.querySelector('#df-4053e194-f7da-4f08-808a-a295422e1237');\n",
              "          const dataTable =\n",
              "            await google.colab.kernel.invokeFunction('convertToInteractive',\n",
              "                                                     [key], {});\n",
              "          if (!dataTable) return;\n",
              "\n",
              "          const docLinkHtml = 'Like what you see? Visit the ' +\n",
              "            '<a target=\"_blank\" href=https://colab.research.google.com/notebooks/data_table.ipynb>data table notebook</a>'\n",
              "            + ' to learn more about interactive tables.';\n",
              "          element.innerHTML = '';\n",
              "          dataTable['output_type'] = 'display_data';\n",
              "          await google.colab.output.renderOutput(dataTable, element);\n",
              "          const docLink = document.createElement('div');\n",
              "          docLink.innerHTML = docLinkHtml;\n",
              "          element.appendChild(docLink);\n",
              "        }\n",
              "      </script>\n",
              "    </div>\n",
              "  </div>\n",
              "  "
            ]
          },
          "metadata": {},
          "execution_count": 91
        }
      ]
    },
    {
      "cell_type": "code",
      "source": [
        "figure(figsize=(8, 6), dpi=80)\n",
        "plt.bar(mis_UBS.Country, mis_UBS['Percentage Increase %'])\n",
        "plt.xticks(rotation=45)\n",
        "plt.xlabel('Country')\n",
        "plt.ylabel('Percent % increase in Plastic Waste 2010 to 2019')\n",
        "plt.title('Country vs Percent % increase')"
      ],
      "metadata": {
        "colab": {
          "base_uri": "https://localhost:8080/",
          "height": 521
        },
        "id": "DjTWK6_n88l6",
        "outputId": "c10554ef-0e51-47a8-fa10-5ec3004e142c"
      },
      "execution_count": 100,
      "outputs": [
        {
          "output_type": "execute_result",
          "data": {
            "text/plain": [
              "Text(0.5, 1.0, 'Country vs Percent % increase')"
            ]
          },
          "metadata": {},
          "execution_count": 100
        },
        {
          "output_type": "display_data",
          "data": {
            "text/plain": [
              "<Figure size 640x480 with 1 Axes>"
            ],
            "image/png": "[encoded data removed]"
          },
          "metadata": {
            "needs_background": "light"
          }
        }
      ]
    },
    {
      "cell_type": "code",
      "source": [
        "df10= pd.DataFrame({'A': ['UBS', 'Non-UBS'], 'Mismanged_2010': [0.022833333333333334, 0.04597222222222221], 'Mismanged_2019': [4.372262170666667, 8.821134537045753], 'Difference' :[1037767.6666666666,153614.21476510068 ], 'Percetange' : [19048.6, 19088.0]})\n",
        "                                                                                                                                                          \n",
        "df10.head()"
      ],
      "metadata": {
        "colab": {
          "base_uri": "https://localhost:8080/",
          "height": 112
        },
        "id": "m6jbvs865TfU",
        "outputId": "a234c207-ed40-44bb-a900-a23e0d64c1bd"
      },
      "execution_count": 79,
      "outputs": [
        {
          "output_type": "execute_result",
          "data": {
            "text/plain": [
              "         A  Mismanged_2010  Mismanged_2019    Difference  Percetange\n",
              "0      UBS        0.022833        4.372262  1.037768e+06     19048.6\n",
              "1  Non-UBS        0.045972        8.821135  1.536142e+05     19088.0"
            ],
            "text/html": [
              "\n",
              "  <div id=\"df-c9dc2013-da8c-4110-8e49-08cca00c5165\">\n",
              "    <div class=\"colab-df-container\">\n",
              "      <div>\n",
              "<style scoped>\n",
              "    .dataframe tbody tr th:only-of-type {\n",
              "        vertical-align: middle;\n",
              "    }\n",
              "\n",
              "    .dataframe tbody tr th {\n",
              "        vertical-align: top;\n",
              "    }\n",
              "\n",
              "    .dataframe thead th {\n",
              "        text-align: right;\n",
              "    }\n",
              "</style>\n",
              "<table border=\"1\" class=\"dataframe\">\n",
              "  <thead>\n",
              "    <tr style=\"text-align: right;\">\n",
              "      <th></th>\n",
              "      <th>A</th>\n",
              "      <th>Mismanged_2010</th>\n",
              "      <th>Mismanged_2019</th>\n",
              "      <th>Difference</th>\n",
              "      <th>Percetange</th>\n",
              "    </tr>\n",
              "  </thead>\n",
              "  <tbody>\n",
              "    <tr>\n",
              "      <th>0</th>\n",
              "      <td>UBS</td>\n",
              "      <td>0.022833</td>\n",
              "      <td>4.372262</td>\n",
              "      <td>1.037768e+06</td>\n",
              "      <td>19048.6</td>\n",
              "    </tr>\n",
              "    <tr>\n",
              "      <th>1</th>\n",
              "      <td>Non-UBS</td>\n",
              "      <td>0.045972</td>\n",
              "      <td>8.821135</td>\n",
              "      <td>1.536142e+05</td>\n",
              "      <td>19088.0</td>\n",
              "    </tr>\n",
              "  </tbody>\n",
              "</table>\n",
              "</div>\n",
              "      <button class=\"colab-df-convert\" onclick=\"convertToInteractive('df-c9dc2013-da8c-4110-8e49-08cca00c5165')\"\n",
              "              title=\"Convert this dataframe to an interactive table.\"\n",
              "              style=\"display:none;\">\n",
              "        \n",
              "  <svg xmlns=\"http://www.w3.org/2000/svg\" height=\"24px\"viewBox=\"0 0 24 24\"\n",
              "       width=\"24px\">\n",
              "    <path d=\"M0 0h24v24H0V0z\" fill=\"none\"/>\n",
              "    <path d=\"M18.56 5.44l.94 2.06.94-2.06 2.06-.94-2.06-.94-.94-2.06-.94 2.06-2.06.94zm-11 1L8.5 8.5l.94-2.06 2.06-.94-2.06-.94L8.5 2.5l-.94 2.06-2.06.94zm10 10l.94 2.06.94-2.06 2.06-.94-2.06-.94-.94-2.06-.94 2.06-2.06.94z\"/><path d=\"M17.41 7.96l-1.37-1.37c-.4-.4-.92-.59-1.43-.59-.52 0-1.04.2-1.43.59L10.3 9.45l-7.72 7.72c-.78.78-.78 2.05 0 2.83L4 21.41c.39.39.9.59 1.41.59.51 0 1.02-.2 1.41-.59l7.78-7.78 2.81-2.81c.8-.78.8-2.07 0-2.86zM5.41 20L4 18.59l7.72-7.72 1.47 1.35L5.41 20z\"/>\n",
              "  </svg>\n",
              "      </button>\n",
              "      \n",
              "  <style>\n",
              "    .colab-df-container {\n",
              "      display:flex;\n",
              "      flex-wrap:wrap;\n",
              "      gap: 12px;\n",
              "    }\n",
              "\n",
              "    .colab-df-convert {\n",
              "      background-color: #E8F0FE;\n",
              "      border: none;\n",
              "      border-radius: 50%;\n",
              "      cursor: pointer;\n",
              "      display: none;\n",
              "      fill: #1967D2;\n",
              "      height: 32px;\n",
              "      padding: 0 0 0 0;\n",
              "      width: 32px;\n",
              "    }\n",
              "\n",
              "    .colab-df-convert:hover {\n",
              "      background-color: #E2EBFA;\n",
              "      box-shadow: 0px 1px 2px rgba(60, 64, 67, 0.3), 0px 1px 3px 1px rgba(60, 64, 67, 0.15);\n",
              "      fill: #174EA6;\n",
              "    }\n",
              "\n",
              "    [theme=dark] .colab-df-convert {\n",
              "      background-color: #3B4455;\n",
              "      fill: #D2E3FC;\n",
              "    }\n",
              "\n",
              "    [theme=dark] .colab-df-convert:hover {\n",
              "      background-color: #434B5C;\n",
              "      box-shadow: 0px 1px 3px 1px rgba(0, 0, 0, 0.15);\n",
              "      filter: drop-shadow(0px 1px 2px rgba(0, 0, 0, 0.3));\n",
              "      fill: #FFFFFF;\n",
              "    }\n",
              "  </style>\n",
              "\n",
              "      <script>\n",
              "        const buttonEl =\n",
              "          document.querySelector('#df-c9dc2013-da8c-4110-8e49-08cca00c5165 button.colab-df-convert');\n",
              "        buttonEl.style.display =\n",
              "          google.colab.kernel.accessAllowed ? 'block' : 'none';\n",
              "\n",
              "        async function convertToInteractive(key) {\n",
              "          const element = document.querySelector('#df-c9dc2013-da8c-4110-8e49-08cca00c5165');\n",
              "          const dataTable =\n",
              "            await google.colab.kernel.invokeFunction('convertToInteractive',\n",
              "                                                     [key], {});\n",
              "          if (!dataTable) return;\n",
              "\n",
              "          const docLinkHtml = 'Like what you see? Visit the ' +\n",
              "            '<a target=\"_blank\" href=https://colab.research.google.com/notebooks/data_table.ipynb>data table notebook</a>'\n",
              "            + ' to learn more about interactive tables.';\n",
              "          element.innerHTML = '';\n",
              "          dataTable['output_type'] = 'display_data';\n",
              "          await google.colab.output.renderOutput(dataTable, element);\n",
              "          const docLink = document.createElement('div');\n",
              "          docLink.innerHTML = docLinkHtml;\n",
              "          element.appendChild(docLink);\n",
              "        }\n",
              "      </script>\n",
              "    </div>\n",
              "  </div>\n",
              "  "
            ]
          },
          "metadata": {},
          "execution_count": 79
        }
      ]
    },
    {
      "cell_type": "code",
      "source": [
        "figure(figsize=(8, 6), dpi=80)\n",
        "plt.bar(df10.A, df10.Mismanged_2010)\n",
        "plt.ylabel('Mismanaged PlasticWaste PerCapita 2010 (kg/year)')\n",
        "plt.title('UBS vs Non-UBS PlasticWaste 2010')"
      ],
      "metadata": {
        "colab": {
          "base_uri": "https://localhost:8080/",
          "height": 446
        },
        "id": "D7yvuMUa6zCd",
        "outputId": "76c5fecf-6b16-4933-bbee-d82f64a2a82e"
      },
      "execution_count": 101,
      "outputs": [
        {
          "output_type": "execute_result",
          "data": {
            "text/plain": [
              "Text(0.5, 1.0, 'UBS vs Non-UBS PlasticWaste 2010')"
            ]
          },
          "metadata": {},
          "execution_count": 101
        },
        {
          "output_type": "display_data",
          "data": {
            "text/plain": [
              "<Figure size 640x480 with 1 Axes>"
            ],
            "image/png": "[encoded data removed]"
          },
          "metadata": {
            "needs_background": "light"
          }
        }
      ]
    },
    {
      "cell_type": "code",
      "source": [
        "figure(figsize=(8, 6), dpi=80)\n",
        "plt.bar(df10.A, df10.Mismanged_2019)\n",
        "plt.ylabel('Mismanaged PlasticWaste PerCapita 2019 (kg/year)')\n",
        "plt.title('UBS vs Non-UBS PlasticWaste 2019')"
      ],
      "metadata": {
        "colab": {
          "base_uri": "https://localhost:8080/",
          "height": 446
        },
        "id": "5dAutEEC66EV",
        "outputId": "404264b9-7080-4d50-a25b-6eea13c74543"
      },
      "execution_count": 102,
      "outputs": [
        {
          "output_type": "execute_result",
          "data": {
            "text/plain": [
              "Text(0.5, 1.0, 'UBS vs Non-UBS PlasticWaste 2019')"
            ]
          },
          "metadata": {},
          "execution_count": 102
        },
        {
          "output_type": "display_data",
          "data": {
            "text/plain": [
              "<Figure size 640x480 with 1 Axes>"
            ],
            "image/png": "[encoded data removed]"
          },
          "metadata": {
            "needs_background": "light"
          }
        }
      ]
    },
    {
      "cell_type": "code",
      "source": [
        "figure(figsize=(8, 6), dpi=80)\n",
        "plt.bar(df10.A, df10.Percetange)\n",
        "plt.ylabel('Percent % increase in Plastic Waste 2010 to 2019')\n",
        "plt.title('UBS vs Non-UBS Percent % increase')"
      ],
      "metadata": {
        "colab": {
          "base_uri": "https://localhost:8080/",
          "height": 446
        },
        "id": "o87mDD2-7B6O",
        "outputId": "56b64814-dc42-4b4a-f173-150eaaf92a3c"
      },
      "execution_count": 104,
      "outputs": [
        {
          "output_type": "execute_result",
          "data": {
            "text/plain": [
              "Text(0.5, 1.0, 'UBS vs Non-UBS Percent % increase')"
            ]
          },
          "metadata": {},
          "execution_count": 104
        },
        {
          "output_type": "display_data",
          "data": {
            "text/plain": [
              "<Figure size 640x480 with 1 Axes>"
            ],
            "image/png": "[encoded data removed]"
          },
          "metadata": {
            "needs_background": "light"
          }
        }
      ]
    },
    {
      "cell_type": "code",
      "source": [
        "\n",
        "print('Average UBS Mismanged Plastic Waste per Capita 2010:', mis_UBS['Mismanaged_PlasticWaste_PerCapita_2010 (kg per year) '].mean())\n",
        "print('Average UBS Mismanged Plastic Waste per Capita 2019:', mis_UBS['Mismanaged_PlasticWaste_PerCapita_2019 (kg per year) '].mean())\n",
        "print('Average UBS difference in Mismanged Plastic Waste per Capita:', mis_UBS['Total_mis'].mean())"
      ],
      "metadata": {
        "colab": {
          "base_uri": "https://localhost:8080/"
        },
        "id": "3erqmy594yG2",
        "outputId": "9512324e-fba4-49d0-9d70-e07e6286163c"
      },
      "execution_count": 68,
      "outputs": [
        {
          "output_type": "stream",
          "name": "stdout",
          "text": [
            "Average UBS Mismanged Plastic Waste per Capita 2010: 0.022833333333333334\n",
            "Average UBS Mismanged Plastic Waste per Capita 2019: 4.372262170666667\n",
            "Average UBS difference in Mismanged Plastic Waste per Capita: 1037767.6666666666\n"
          ]
        }
      ]
    },
    {
      "cell_type": "code",
      "source": [
        "print('Average non-UBS Mismanged Plastic Waste per Capita 2010:', mis_non['Mismanaged_PlasticWaste_PerCapita_2010 (kg per year) '].mean())\n",
        "print('Average non-UBS Mismanged Plastic Waste per Capita 2019:', mis_non['Mismanaged_PlasticWaste_PerCapita_2019 (kg per year) '].mean())\n",
        "print('Average non-UBS difference in Mismanged Plastic Waste per Capita:', mis_non['Total_mis'].mean())"
      ],
      "metadata": {
        "colab": {
          "base_uri": "https://localhost:8080/"
        },
        "id": "NK0_laZ05Tt9",
        "outputId": "a8f387fd-1d31-498b-ab34-d4ee30d74ba0"
      },
      "execution_count": 69,
      "outputs": [
        {
          "output_type": "stream",
          "name": "stdout",
          "text": [
            "Average non-UBS Mismanged Plastic Waste per Capita 2010: 0.04597222222222221\n",
            "Average non-UBS Mismanged Plastic Waste per Capita 2019: 8.821134537045753\n",
            "Average non-UBS difference in Mismanged Plastic Waste per Capita: 153614.21476510068\n"
          ]
        }
      ]
    },
    {
      "cell_type": "code",
      "source": [
        "(df10['Mismanged_2010']/df10['Mismanged_2019']) * 100"
      ],
      "metadata": {
        "colab": {
          "base_uri": "https://localhost:8080/"
        },
        "id": "_MaNSEh469I-",
        "outputId": "59825eea-7201-4441-ad5c-a133d42eca11"
      },
      "execution_count": 71,
      "outputs": [
        {
          "output_type": "execute_result",
          "data": {
            "text/plain": [
              "0    0.522232\n",
              "1    0.521160\n",
              "dtype: float64"
            ]
          },
          "metadata": {},
          "execution_count": 71
        }
      ]
    },
    {
      "cell_type": "code",
      "source": [],
      "metadata": {
        "id": "jeELVP0X6L8n"
      },
      "execution_count": null,
      "outputs": []
    }
  ]
}